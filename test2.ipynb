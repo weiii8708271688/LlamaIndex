{
 "cells": [
  {
   "cell_type": "code",
   "execution_count": 2,
   "metadata": {},
   "outputs": [],
   "source": [
    "from llama_index.core.chat_engine import SimpleChatEngine\n",
    "from llama_index.core import Settings\n",
    "from llama_index.llms.ollama import Ollama\n",
    "from llama_index.core.tools import FunctionTool, ToolMetadata\n",
    "llm = Ollama(model=\"llama3.1:latest\", request_timeout=120.0)\n",
    "Settings.llm = Ollama(model=\"llama3.1:latest\", request_timeout=120.0)\n",
    "from llama_index.embeddings.huggingface import HuggingFaceEmbedding\n",
    "Settings.embed_model = HuggingFaceEmbedding(model_name=\"BAAI/bge-small-en-v1.5\")"
   ]
  },
  {
   "cell_type": "code",
   "execution_count": 3,
   "metadata": {},
   "outputs": [],
   "source": [
    "chat_engine = SimpleChatEngine.from_defaults(llm = self.llm)"
   ]
  },
  {
   "cell_type": "code",
   "execution_count": 4,
   "metadata": {},
   "outputs": [
    {
     "name": "stdout",
     "output_type": "stream",
     "text": [
      "The database contains the following paper files:\n",
      "['Depth and Breadth of Research Area Coverage and Its Impact on Publication Citation_ An Analysis of Bibliometric Papers.pdf', 'Equitable partitions of Latin-square graphs.pdf', 'Graph Retrieval-Augmented Generation_ A Survey.pdf', 'On Connectivity-Aware Distributed Mobility Models for Area Coverage in Drone Networks.pdf', 'ColPali_ Efficient Document Retrieval with Vision Language Models.pdf', 'Mr. Right_ Multimodal Retrieval on Representation of ImaGe witH Text.pdf', 'The Academic Midas Touch_ An Unconventional Scientometric for Evaluating Academic Excellence.pdf', 'How Do People Differ_ A Social Media Approach.pdf', 'Consistency issues in Gaussian Mixture Models reduction algorithms.pdf', '筆記.pdf', 'Driver Positioning and Incentive Budgeting with an Escrow Mechanism for Ridesharing Platforms.pdf', 'Influence of Roughening Transition on Magnetic Ordering.pdf', 'Recent development of chaos theory in topological dynamics.pdf', 'Nouvelle theorie des taches du Soleil, by E. Pezenas (1692-1776). A fully annoted edition of a manuscript.pdf', 'Characterizing and computing weight-equitable partitions of graphs.pdf', 'A Survey on Neural Abstractive Summarization Methods and Factual Consistency of Summarization.pdf', 'LoRA_ Low-Rank Adaptation of Large Language Models.pdf', 'Toolformer_ Language Models Can Teach Themselves to Use Tools.pdf', 'What about em_ How Commercial Machine Translation Fails to Handle (Neo-)Pronouns.pdf', 'Deep Time Series Models_ A Comprehensive Survey and Benchmark.pdf', 'Dynamical conductivity of disordered quantum chains.pdf', 'Interpretation of the Transformer and Improvement of the Extractor.pdf', 'Unifying Multimodal Retrieval via Document Screenshot Embedding.pdf', 'Automated Fuzzing of Automotive Control Units.pdf', 'Measurement and comparison of individual external doses of high-school students living in Japan, France, Poland and Belarus -- the _D-shuttle_ project --.pdf', 'Differentiable Neural Architecture Transformation for Reproducible  Architecture Improvement.pdf', 'Say Anything_ Automatic Semantic Infelicity Detection in L2 English Indefinite Pronouns.pdf', 'Integration and Performance Analysis of Artificial Intelligence and Computer Vision Based on Deep Learning Algorithms.pdf', 'Possible routes to superconductivity in the surface layers of V-doped Mg$_{1-δ}$Ti$_2$O$_4$ through multiple charge transfers and suppression of Jahn-Teller activity.pdf', 'A Study on the Implementation Method of an Agent-Based Advanced RAG System Using Graph.pdf', \"Amélioration de la qualité d'images avec un algorithme d'optimisation inspirée par la nature.pdf\", 'Deep Reinforcement Learning in Computer Vision_ A Comprehensive Survey.pdf', 'Results on $ββ$ decay with emission of two neutrinos or Majorons in $^{76}$Ge from GERDA Phase I.pdf', \"Etat de l'art sur l'application des bandits multi-bras.pdf\", 'Academic vs. Biological Age in Research on Academic Careers_ A Large-scale Study with Implications for Scientifically Developing Systems.pdf', 'Making a case for femto- phono- magnetism with FePt.pdf', 'Natural Language Understanding with Distributed Representation.pdf', 'PDF-MVQA_ A Dataset for Multimodal Information Retrieval in PDF-based Visual Question Answering.pdf', 'Perpetual Free-choice Petri nets are lucent -- proof of a theorem of van der Aalst using CP-exhaustions.pdf', 'New infinite families of directed strongly regular graphs via equitable partitions.pdf', 'Algorithms and Training for Weighted Multiset Automata and Regular Expressions.pdf', 'Deep Learning vs. Traditional Computer Vision.pdf', 'Contrastive Representation Distillation.pdf', 'Optimizing RAG Techniques for Automotive Industry PDF Chatbots_ A Case Study with Locally Deployed Ollama Models.pdf', 'Can Microsoft Academic help to assess the citation impact of academic books_.pdf', 'Learning Transferable Visual Models From Natural Language Supervision.pdf', 'Natural Language Processing using Hadoop and KOSHIK.pdf', '_Weak AI_ is Likely to Never Become _Strong AI_, So What is its Greatest Value for us_.pdf', 'Nonparametric estimation in random coefficients binary choice models.pdf', 'What are Your Pronouns_ Examining Gender Pronoun Usage on Twitter.pdf', 'A Survey on Deep Learning Methods for Robot Vision.pdf', 'ColPali Efficient Document Retrieval with Vision Language Models.pdf', \"DesignQA_ A Multimodal Benchmark for Evaluating Large Language Models' Understanding of Engineering Documentation.pdf']\n",
      "\n",
      "Unfortunately, the requested paper GGININ does not exist in the database.\n"
     ]
    }
   ],
   "source": [
    "responce = chat_engine.chat(\"\"\"\n",
    "                            'The database contains the following paper files:\\n[\\'Depth and Breadth of Research Area Coverage and Its Impact on Publication Citation_ An Analysis of Bibliometric Papers.pdf\\', \\'Equitable partitions of Latin-square graphs.pdf\\', \\'Graph Retrieval-Augmented Generation_ A Survey.pdf\\', \\'On Connectivity-Aware Distributed Mobility Models for Area Coverage in Drone Networks.pdf\\', \\'ColPali_ Efficient Document Retrieval with Vision Language Models.pdf\\', \\'Mr. Right_ Multimodal Retrieval on Representation of ImaGe witH Text.pdf\\', \\'The Academic Midas Touch_ An Unconventional Scientometric for Evaluating Academic Excellence.pdf\\', \\'How Do People Differ_ A Social Media Approach.pdf\\', \\'Consistency issues in Gaussian Mixture Models reduction algorithms.pdf\\', \\'筆記.pdf\\', \\'Driver Positioning and Incentive Budgeting with an Escrow Mechanism for Ridesharing Platforms.pdf\\', \\'Influence of Roughening Transition on Magnetic Ordering.pdf\\', \\'Recent development of chaos theory in topological dynamics.pdf\\', \\'Nouvelle theorie des taches du Soleil, by E. Pezenas (1692-1776). A fully annoted edition of a manuscript.pdf\\', \\'Characterizing and computing weight-equitable partitions of graphs.pdf\\', \\'A Survey on Neural Abstractive Summarization Methods and Factual Consistency of Summarization.pdf\\', \\'LoRA_ Low-Rank Adaptation of Large Language Models.pdf\\', \\'Toolformer_ Language Models Can Teach Themselves to Use Tools.pdf\\', \\'What about em_ How Commercial Machine Translation Fails to Handle (Neo-)Pronouns.pdf\\', \\'Deep Time Series Models_ A Comprehensive Survey and Benchmark.pdf\\', \\'Dynamical conductivity of disordered quantum chains.pdf\\', \\'Interpretation of the Transformer and Improvement of the Extractor.pdf\\', \\'Unifying Multimodal Retrieval via Document Screenshot Embedding.pdf\\', \\'Automated Fuzzing of Automotive Control Units.pdf\\', \\'Measurement and comparison of individual external doses of high-school students living in Japan, France, Poland and Belarus -- the _D-shuttle_ project --.pdf\\', \\'Differentiable Neural Architecture Transformation for Reproducible  Architecture Improvement.pdf\\', \\'Say Anything_ Automatic Semantic Infelicity Detection in L2 English Indefinite Pronouns.pdf\\', \\'Integration and Performance Analysis of Artificial Intelligence and Computer Vision Based on Deep Learning Algorithms.pdf\\', \\'Possible routes to superconductivity in the surface layers of V-doped Mg$_{1-δ}$Ti$_2$O$_4$ through multiple charge transfers and suppression of Jahn-Teller activity.pdf\\', \\'A Study on the Implementation Method of an Agent-Based Advanced RAG System Using Graph.pdf\\', \"Amélioration de la qualité d\\'images avec un algorithme d\\'optimisation inspirée par la nature.pdf\", \\'Deep Reinforcement Learning in Computer Vision_ A Comprehensive Survey.pdf\\', \\'Results on $ββ$ decay with emission of two neutrinos or Majorons in $^{76}$Ge from GERDA Phase I.pdf\\', \"Etat de l\\'art sur l\\'application des bandits multi-bras.pdf\", \\'Academic vs. Biological Age in Research on Academic Careers_ A Large-scale Study with Implications for Scientifically Developing Systems.pdf\\', \\'Making a case for femto- phono- magnetism with FePt.pdf\\', \\'Natural Language Understanding with Distributed Representation.pdf\\', \\'PDF-MVQA_ A Dataset for Multimodal Information Retrieval in PDF-based Visual Question Answering.pdf\\', \\'Perpetual Free-choice Petri nets are lucent -- proof of a theorem of van der Aalst using CP-exhaustions.pdf\\', \\'New infinite families of directed strongly regular graphs via equitable partitions.pdf\\', \\'Algorithms and Training for Weighted Multiset Automata and Regular Expressions.pdf\\', \\'Deep Learning vs. Traditional Computer Vision.pdf\\', \\'Contrastive Representation Distillation.pdf\\', \\'Optimizing RAG Techniques for Automotive Industry PDF Chatbots_ A Case Study with Locally Deployed Ollama Models.pdf\\', \\'Can Microsoft Academic help to assess the citation impact of academic books_.pdf\\', \\'Learning Transferable Visual Models From Natural Language Supervision.pdf\\', \\'Natural Language Processing using Hadoop and KOSHIK.pdf\\', \\'_Weak AI_ is Likely to Never Become _Strong AI_, So What is its Greatest Value for us_.pdf\\', \\'Nonparametric estimation in random coefficients binary choice models.pdf\\', \\'What are Your Pronouns_ Examining Gender Pronoun Usage on Twitter.pdf\\', \\'A Survey on Deep Learning Methods for Robot Vision.pdf\\', \\'ColPali Efficient Document Retrieval with Vision Language Models.pdf\\', \"DesignQA_ A Multimodal Benchmark for Evaluating Large Language Models\\' Understanding of Engineering Documentation.pdf\"]\\nThe paper the user wants to find is: GGININ\\nIf this paper doesn\\'t exist, output only \\'NO\\' without any other sentences.\\nIf the paper exists, output the complete file name(s) of the paper(s), without any path. If there are multiple files with the same name, output all matching complete file names.\n",
    "                            \"\"\")\n",
    "print(responce.response)"
   ]
  },
  {
   "cell_type": "code",
   "execution_count": 6,
   "metadata": {},
   "outputs": [],
   "source": [
    "chat_tool = FunctionTool.from_defaults(\n",
    "    fn=chat_engine.chat,\n",
    "    name=\"SimpleChatTool\",\n",
    "    description=\"A tool that uses SimpleChatEngine to process messages and generate responses.\",\n",
    "    tool_metadata=ToolMetadata(\n",
    "        name=\"SimpleChatTool\",\n",
    "        description=\"Use this tool for general conversation or when other specialized tools are not applicable.\"\n",
    "    )\n",
    ")"
   ]
  },
  {
   "cell_type": "code",
   "execution_count": 3,
   "metadata": {},
   "outputs": [
    {
     "name": "stderr",
     "output_type": "stream",
     "text": [
      "/tmp/ipykernel_106107/457787089.py:25: DeprecationWarning: The 'Search.results' method is deprecated, use 'Client.results' instead\n",
      "  paper = next(search.results())\n"
     ]
    },
    {
     "name": "stdout",
     "output_type": "stream",
     "text": [
      "正在下載: LoRA: Low-Rank Adaptation of Large Language Models\n",
      "已下載: LoRA Low-Rank Adaptation of Large Language Models_2106.09685v2.pdf\n",
      "正在下載: Graph Retrieval-Augmented Generation: A Survey\n",
      "已下載: Graph Retrieval-Augmented Generation A Survey_2408.08921v2.pdf\n",
      "正在下載: ColPali: Efficient Document Retrieval with Vision Language Models\n",
      "已下載: ColPali Efficient Document Retrieval with Vision Language Models_2407.01449v3.pdf\n",
      "正在下載: Deep Time Series Models: A Comprehensive Survey and Benchmark\n",
      "已下載: Deep Time Series Models A Comprehensive Survey and Benchmark_2407.13278v1.pdf\n",
      "正在下載: Toolformer: Language Models Can Teach Themselves to Use Tools\n",
      "已下載: Toolformer Language Models Can Teach Themselves to Use Tools_2302.04761v1.pdf\n",
      "正在下載: Tiny Time Mixers (TTMs): Fast Pre-trained Models for Enhanced Zero/Few-Shot Forecasting of Multivariate Time Series\n",
      "已下載: Tiny Time Mixers TTMs Fast Pre-trained Models for Enhanced ZeroFew-Shot Forecasting of Multivariate Time Series_2401.03955v7.pdf\n",
      "正在下載: Learning Transferable Visual Models From Natural Language Supervision\n",
      "已下載: Learning Transferable Visual Models From Natural Language Supervision_2103.00020v1.pdf\n",
      "所有下載完成。\n"
     ]
    }
   ],
   "source": [
    "import arxiv\n",
    "import requests\n",
    "import os\n",
    "from pathlib import Path\n",
    "\n",
    "# 論文 ID 列表\n",
    "paper_ids = [\n",
    "    \"2106.09685\",\n",
    "    \"2408.08921\",\n",
    "    \"2407.01449\",\n",
    "    \"2407.13278\",\n",
    "    \"2302.04761\",\n",
    "    \"2401.03955\",\n",
    "    \"2103.00020\"\n",
    "]\n",
    "\n",
    "# 確保 data/pdf 目錄存在\n",
    "output_dir = Path(\"data/pdf\")\n",
    "output_dir.mkdir(parents=True, exist_ok=True)\n",
    "\n",
    "for paper_id in paper_ids:\n",
    "    try:\n",
    "        # 使用 arxiv API 獲取論文信息\n",
    "        search = arxiv.Search(id_list=[paper_id])\n",
    "        paper = next(search.results())\n",
    "        \n",
    "        # 構造安全的文件名\n",
    "        safe_title = \"\".join(c for c in paper.title if c.isalnum() or c in [' ', '-', '_']).rstrip()\n",
    "        filename = f\"{safe_title}_{paper.entry_id.split('/')[-1]}.pdf\"\n",
    "        filepath = output_dir / filename\n",
    "        \n",
    "        print(f\"正在下載: {paper.title}\")\n",
    "        \n",
    "        # 下載 PDF\n",
    "        response = requests.get(paper.pdf_url)\n",
    "        response.raise_for_status()\n",
    "        \n",
    "        # 保存 PDF\n",
    "        with open(filepath, 'wb') as f:\n",
    "            f.write(response.content)\n",
    "        \n",
    "        print(f\"已下載: {filename}\")\n",
    "    \n",
    "    except Exception as e:\n",
    "        print(f\"下載 {paper_id} 時發生錯誤: {str(e)}\")\n",
    "\n",
    "print(\"所有下載完成。\")"
   ]
  },
  {
   "cell_type": "code",
   "execution_count": 4,
   "metadata": {},
   "outputs": [
    {
     "name": "stdout",
     "output_type": "stream",
     "text": [
      "['Learning Transferable Visual Models From Natural Language Supervision_2103.00020v1.pdf', 'ColPali Efficient Document Retrieval with Vision Language Models_2407.01449v3.pdf', 'Graph Retrieval-Augmented Generation A Survey_2408.08921v2.pdf', 'Tiny Time Mixers TTMs Fast Pre-trained Models for Enhanced ZeroFew-Shot Forecasting of Multivariate Time Series_2401.03955v7.pdf', 'Deep Time Series Models A Comprehensive Survey and Benchmark_2407.13278v1.pdf', 'LoRA Low-Rank Adaptation of Large Language Models_2106.09685v2.pdf', 'Toolformer Language Models Can Teach Themselves to Use Tools_2302.04761v1.pdf']\n"
     ]
    }
   ],
   "source": [
    "from llama_index.core import Settings\n",
    "from llama_index.llms.ollama import Ollama\n",
    "llm = Ollama(model=\"llama3.1:latest\", request_timeout=120.0)\n",
    "Settings.llm = Ollama(model=\"llama3.1:latest\", request_timeout=120.0)\n",
    "from llama_index.embeddings.huggingface import HuggingFaceEmbedding\n",
    "Settings.embed_model = HuggingFaceEmbedding(model_name=\"BAAI/bge-small-en-v1.5\")\n",
    "\n",
    "\n",
    "from llama_index.core import SimpleDirectoryReader, VectorStoreIndex, ServiceContext\n",
    "from llama_index.core.node_parser import SentenceSplitter\n",
    "from llama_index.core.schema import IndexNode\n",
    "from llama_index.core.retrievers import RecursiveRetriever\n",
    "from llama_index.core.query_engine import RetrieverQueryEngine\n",
    "from llama_index.core.retrievers import QueryFusionRetriever\n",
    "import  llama_index.core.chat_engine\n",
    "import os\n",
    "\n",
    "### Recipe\n",
    "### Build a recursive retriever that retrieves using small chunks\n",
    "### but passes associated larger chunks to the generation stage\n",
    "\n",
    "# load data\n",
    "pdfs = os.listdir(\"data/pdf\")\n",
    "print(pdfs)"
   ]
  },
  {
   "cell_type": "code",
   "execution_count": 5,
   "metadata": {},
   "outputs": [],
   "source": [
    "def load(filename):\n",
    "    documents = SimpleDirectoryReader(\n",
    "    input_files=[f\"data/pdf/{filename}\"]\n",
    "    ).load_data()\n",
    "\n",
    "    # build parent chunks via NodeParser\n",
    "    node_parser = SentenceSplitter(chunk_size=1024)\n",
    "    base_nodes = node_parser.get_nodes_from_documents(documents)\n",
    "\n",
    "    # define smaller child chunks\n",
    "    sub_chunk_sizes = [256, 512]\n",
    "    sub_node_parsers = [\n",
    "        SentenceSplitter(chunk_size=c, chunk_overlap=20) for c in sub_chunk_sizes\n",
    "    ]\n",
    "    all_nodes = []\n",
    "    for base_node in base_nodes:\n",
    "        for n in sub_node_parsers:\n",
    "            sub_nodes = n.get_nodes_from_documents([base_node])\n",
    "            sub_inodes = [\n",
    "                IndexNode.from_text_node(sn, base_node.node_id) for sn in sub_nodes\n",
    "            ]\n",
    "            all_nodes.extend(sub_inodes)\n",
    "        # also add original node to node\n",
    "        original_node = IndexNode.from_text_node(base_node, base_node.node_id)\n",
    "        all_nodes.append(original_node)\n",
    "\n",
    "    # define a VectorStoreIndex with all of the nodes\n",
    "    vector_index_chunk = VectorStoreIndex(\n",
    "        all_nodes\n",
    "    )\n",
    "    vector_index_chunk.storage_context.persist(persist_dir=f\"./storage/{filename[:-4]}\")"
   ]
  },
  {
   "cell_type": "code",
   "execution_count": 6,
   "metadata": {},
   "outputs": [],
   "source": [
    "for filename in pdfs:\n",
    "    load(filename)"
   ]
  },
  {
   "cell_type": "code",
   "execution_count": 16,
   "metadata": {},
   "outputs": [],
   "source": [
    "from llama_index.core import load_index_from_storage, StorageContext\n",
    "index1 = load_index_from_storage(\n",
    "            StorageContext.from_defaults(persist_dir=\"./storage/ColPali Efficient Document Retrieval with Vision Language Models_2407.01449\"),\n",
    "        )\n",
    "index2 = load_index_from_storage(\n",
    "            StorageContext.from_defaults(persist_dir=\"./storage/LoRA Low-Rank Adaptation of Large Language Models_2106.09685\"),\n",
    "        )\n"
   ]
  },
  {
   "cell_type": "code",
   "execution_count": 22,
   "metadata": {},
   "outputs": [
    {
     "name": "stdout",
     "output_type": "stream",
     "text": [
      "Colpali appears to be a model or system related to late interaction retrieval engines, particularly PLAID, which may have applications in document retrieval and historical language analysis. Its text encoding efficiency and computational overhead are also noteworthy aspects. However, without more direct information, the exact nature and capabilities of Colpali remain somewhat unclear.\n"
     ]
    }
   ],
   "source": [
    "print(index1.as_chat_engine().chat(\"Tell me what is Colpali, Please tell me detail\").response)"
   ]
  },
  {
   "cell_type": "code",
   "execution_count": 1,
   "metadata": {},
   "outputs": [
    {
     "data": {
      "text/plain": [
       "'2106.09685'"
      ]
     },
     "execution_count": 1,
     "metadata": {},
     "output_type": "execute_result"
    }
   ],
   "source": [
    "from agent_b"
   ]
  }
 ],
 "metadata": {
  "kernelspec": {
   "display_name": "py310",
   "language": "python",
   "name": "python3"
  },
  "language_info": {
   "codemirror_mode": {
    "name": "ipython",
    "version": 3
   },
   "file_extension": ".py",
   "mimetype": "text/x-python",
   "name": "python",
   "nbconvert_exporter": "python",
   "pygments_lexer": "ipython3",
   "version": "3.10.14"
  }
 },
 "nbformat": 4,
 "nbformat_minor": 2
}
